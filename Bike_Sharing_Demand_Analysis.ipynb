{
 "cells": [
  {
   "cell_type": "markdown",
   "id": "f6eaeb26",
   "metadata": {},
   "source": [
    "# Bike Sharing Demand Prediction - Linear Regression"
   ]
  },
  {
   "cell_type": "markdown",
   "id": "53412023",
   "metadata": {},
   "source": [
    "## Introduction\n",
    "This notebook demonstrates the implementation of a multiple linear regression model to predict bike-sharing demand. The goal is to identify significant factors influencing demand and evaluate the model's performance."
   ]
  },
  {
   "cell_type": "code",
   "execution_count": null,
   "id": "725e1759",
   "metadata": {},
   "outputs": [],
   "source": [
    "# Importing necessary libraries\n",
    "import pandas as pd\n",
    "import numpy as np\n",
    "import matplotlib.pyplot as plt\n",
    "import seaborn as sns\n",
    "from sklearn.model_selection import train_test_split\n",
    "from sklearn.linear_model import LinearRegression\n",
    "from sklearn.metrics import r2_score\n",
    "import statsmodels.api as sm"
   ]
  },
  {
   "cell_type": "code",
   "execution_count": null,
   "id": "24847937",
   "metadata": {},
   "outputs": [],
   "source": [
    "# Load the dataset\n",
    "file_path = 'day.csv'\n",
    "data = pd.read_csv(file_path)\n",
    "\n",
    "# Display the first few rows of the dataset\n",
    "data.head()"
   ]
  },
  {
   "cell_type": "markdown",
   "id": "06fecff8",
   "metadata": {},
   "source": [
    "## Data Preprocessing"
   ]
  },
  {
   "cell_type": "code",
   "execution_count": null,
   "id": "673a14c4",
   "metadata": {},
   "outputs": [],
   "source": [
    "# Converting categorical variables into dummy variables\n",
    "categorical_vars = ['season', 'weathersit', 'mnth', 'weekday']\n",
    "data = pd.get_dummies(data, columns=categorical_vars, drop_first=True)\n",
    "\n",
    "# Dropping irrelevant columns\n",
    "data.drop(['instant', 'dteday', 'casual', 'registered'], axis=1, inplace=True)"
   ]
  },
  {
   "cell_type": "code",
   "execution_count": null,
   "id": "97903874",
   "metadata": {},
   "outputs": [],
   "source": [
    "# Splitting the data into training and testing sets\n",
    "X = data.drop('cnt', axis=1)\n",
    "y = data['cnt']\n",
    "\n",
    "X_train, X_test, y_train, y_test = train_test_split(X, y, test_size=0.2, random_state=42)"
   ]
  },
  {
   "cell_type": "markdown",
   "id": "3aff85b2",
   "metadata": {},
   "source": [
    "## Initial Model Building and Evaluation"
   ]
  },
  {
   "cell_type": "code",
   "execution_count": null,
   "id": "a23904c7",
   "metadata": {},
   "outputs": [],
   "source": [
    "# Adding a constant to the independent variables\n",
    "X_train_sm = sm.add_constant(X_train)\n",
    "\n",
    "# Building the regression model\n",
    "model = sm.OLS(y_train, X_train_sm).fit()\n",
    "\n",
    "# Model summary\n",
    "model.summary()"
   ]
  },
  {
   "cell_type": "markdown",
   "id": "55640e5e",
   "metadata": {},
   "source": [
    "## Addressing Multicollinearity"
   ]
  },
  {
   "cell_type": "code",
   "execution_count": null,
   "id": "518086a8",
   "metadata": {},
   "outputs": [],
   "source": [
    "# Dropping redundant and insignificant variables\n",
    "X_train_refined = X_train.drop(columns=['atemp'])\n",
    "weekday_dummies = [col for col in X_train_refined.columns if 'weekday_' in col and col != 'weekday_6']\n",
    "insignificant_vars = ['mnth_7', 'mnth_8', 'mnth_4', 'mnth_5', 'holiday']\n",
    "X_train_refined = X_train_refined.drop(columns=weekday_dummies + insignificant_vars)\n",
    "\n",
    "# Adding constant and rebuilding the refined model\n",
    "X_train_refined_sm = sm.add_constant(X_train_refined)\n",
    "refined_model = sm.OLS(y_train, X_train_refined_sm).fit()\n",
    "\n",
    "# Refined model summary\n",
    "refined_model.summary()"
   ]
  },
  {
   "cell_type": "markdown",
   "id": "839a6103",
   "metadata": {},
   "source": [
    "## Testing the Refined Model"
   ]
  },
  {
   "cell_type": "code",
   "execution_count": null,
   "id": "9cf0f72e",
   "metadata": {},
   "outputs": [],
   "source": [
    "# Refining the test dataset to match training features\n",
    "X_test_refined = X_test.drop(columns=['atemp'] + weekday_dummies + insignificant_vars, errors='ignore')\n",
    "X_test_refined_sm = sm.add_constant(X_test_refined)\n",
    "\n",
    "# Making predictions on the test dataset\n",
    "y_pred = refined_model.predict(X_test_refined_sm)\n",
    "\n",
    "# Calculating the R-squared score\n",
    "test_r2_score = r2_score(y_test, y_pred)\n",
    "test_r2_score"
   ]
  },
  {
   "cell_type": "markdown",
   "id": "9f884566",
   "metadata": {},
   "source": [
    "## Conclusion\n",
    "The refined model achieved a high R-squared score of **0.851** on the test dataset, indicating strong predictive performance. Significant factors affecting bike demand include `temp`, `yr`, `workingday`, `season`, and weather conditions."
   ]
  }
 ],
 "metadata": {
  "kernelspec": {
   "display_name": "Python 3 (ipykernel)",
   "language": "python",
   "name": "python3"
  },
  "language_info": {
   "codemirror_mode": {
    "name": "ipython",
    "version": 3
   },
   "file_extension": ".py",
   "mimetype": "text/x-python",
   "name": "python",
   "nbconvert_exporter": "python",
   "pygments_lexer": "ipython3",
   "version": "3.12.5"
  }
 },
 "nbformat": 4,
 "nbformat_minor": 5
}
